{
 "cells": [
  {
   "cell_type": "code",
   "execution_count": 153,
   "metadata": {},
   "outputs": [],
   "source": [
    "from PIL import Image, ImageOps\n",
    "import numpy as np\n",
    "import matplotlib"
   ]
  },
  {
   "cell_type": "markdown",
   "metadata": {},
   "source": [
    "# Load Image\n",
    "Dataset downloaded from [VisDrone Object Detection dataset](http://aiskyeye.com/download/object-detection-2/)  > trainset > GoogleDrive"
   ]
  },
  {
   "cell_type": "code",
   "execution_count": null,
   "metadata": {},
   "outputs": [],
   "source": [
    "# Load an image\n",
    "image_file = \"./dataset/VisDrone2019-DET-val/images/0000086_01084_d_0000003.jpg\"\n",
    "image = Image.open(image_file)\n",
    "image.show()\n",
    "print(image.format, image.size, image.mode)"
   ]
  },
  {
   "cell_type": "code",
   "execution_count": null,
   "metadata": {},
   "outputs": [],
   "source": [
    "## Sobel filter requires grayscale images\n",
    "if image.mode == 'RGB':\n",
    "    print(\"Converting RGB image to grayscale\")\n",
    "    image = ImageOps.grayscale(image)\n",
    "image.show()"
   ]
  },
  {
   "cell_type": "code",
   "execution_count": null,
   "metadata": {},
   "outputs": [],
   "source": [
    "# Get info about image\n",
    "xdim, ydim = image.size\n",
    "print(f\"# xdim = {xdim}\")\n",
    "print(f\"# ydim = {ydim}\")"
   ]
  },
  {
   "cell_type": "markdown",
   "metadata": {},
   "source": [
    "## Sobel Filter Pseudocode\n",
    "\n",
    "Reference: [Sobel Operator (Wikipedia)](https://en.wikipedia.org/wiki/Sobel_operator)\n",
    "\n",
    "    Applying convolution K to pixel group P can be represented in pseudocode as:\n",
    "\n",
    "    N(x,y) = Sum of { K(i,j).P(x-i,y-j)}, for i,j running from -1 to 1.\n",
    "    N(x,y) represents the new matrix resulted after applying the Convolution K to P, where P is pixel matrix."
   ]
  },
  {
   "cell_type": "code",
   "execution_count": null,
   "metadata": {},
   "outputs": [],
   "source": [
    "\n",
    "\n",
    "# 3x3 Kernels\n",
    "Kx = np.array([[+1, 0, -1],\n",
    "               [+2, 0, -2],\n",
    "               [+1, 0, -1]])\n",
    "Ky = np.array([[+1, +2, +1],\n",
    "               [ 0,  0,  0],\n",
    "               [-1, -2, -1]])\n",
    "\n",
    "## Sobel Filter equations\n",
    "xdim, ydim = image.size\n",
    "print(f\"# x-dimension = {xdim}\")\n",
    "print(f\"# y-dimension = {ydim}\")\n",
    "N = np.zeros((ydim,xdim))\n",
    "M = np.zeros((ydim, xdim))\n",
    "\n",
    "for y in range(1,ydim - 2):\n",
    "    for x in range(1,xdim - 2):\n",
    "\n",
    "        # Method 1\n",
    "        P = np.zeros((3,3))\n",
    "        for i in [-1,0,1]:\n",
    "            for j in [-1, 0, 1]:\n",
    "                P[i][j] = image.getpixel((x+i, y+j))\n",
    "        # print(f\"P = {P}\")\n",
    "        N[y][x] = sum(sum(np.matmul(Kx,P)))\n",
    "\n",
    "        # Method 2\n",
    "        box = (x-1, y-1, x+2, y+2)\n",
    "        image_box = image.crop(box)\n",
    "        # print(f\"image_box = {np.asarray(image_box)}\")\n",
    "        M[y][x] = sum(sum(np.matmul(Kx,image_box)))"
   ]
  },
  {
   "cell_type": "code",
   "execution_count": null,
   "metadata": {},
   "outputs": [],
   "source": [
    "edge1 = Image.fromarray(N)\n",
    "edge1.show()\n",
    "edge1.mode\n",
    "\n",
    "edge2 = Image.fromarray(M)\n",
    "edge2.show()\n",
    "edge2.mode"
   ]
  },
  {
   "cell_type": "code",
   "execution_count": null,
   "metadata": {},
   "outputs": [],
   "source": [
    "\n"
   ]
  }
 ],
 "metadata": {
  "interpreter": {
   "hash": "b0fa6594d8f4cbf19f97940f81e996739fb7646882a419484c72d19e05852a7e"
  },
  "kernelspec": {
   "display_name": "Python 3.9.12 64-bit",
   "language": "python",
   "name": "python3"
  },
  "language_info": {
   "codemirror_mode": {
    "name": "ipython",
    "version": 3
   },
   "file_extension": ".py",
   "mimetype": "text/x-python",
   "name": "python",
   "nbconvert_exporter": "python",
   "pygments_lexer": "ipython3",
   "version": "3.9.12"
  },
  "orig_nbformat": 4
 },
 "nbformat": 4,
 "nbformat_minor": 2
}
