{
 "cells": [
  {
   "cell_type": "markdown",
   "id": "af636be4",
   "metadata": {},
   "source": [
    "# Cosine-Predicting Neural Network"
   ]
  },
  {
   "cell_type": "markdown",
   "id": "c4997f10",
   "metadata": {},
   "source": [
    "## Import Libraries"
   ]
  },
  {
   "cell_type": "code",
   "execution_count": null,
   "id": "bcea35b2",
   "metadata": {
    "scrolled": true
   },
   "outputs": [],
   "source": [
    "import numpy as np\n",
    "import pandas as pd\n",
    "import sklearn\n",
    "from sklearn.model_selection import train_test_split\n",
    "import tensorflow as tf\n",
    "import matplotlib.pyplot as plt\n",
    "from keras.models import Sequential\n",
    "from keras.layers import Dense\n",
    "from keras.utils.layer_utils import count_params\n",
    "import time\n",
    "\n",
    "# show library versions\n",
    "print(f\"TensorFlow version: {tf.__version__}\")\n",
    "print(f\"NumPy version: {np.__version__}\")"
   ]
  },
  {
   "cell_type": "markdown",
   "id": "f196d48f",
   "metadata": {},
   "source": [
    "## Generate Dataset\n",
    "* Input Variables (X)\n",
    "  * Radian angle input from -2pi to 2pi\n",
    "* Output Variables (y)\n",
    "  * Cosine of X"
   ]
  },
  {
   "cell_type": "code",
   "execution_count": null,
   "id": "ea1b6517",
   "metadata": {},
   "outputs": [],
   "source": [
    "X = np.linspace(0, 6*np.pi, 1000)\n",
    "y = np.cos(X)\n",
    "\n",
    "plt.plot(X, y)\n",
    "plt.ylabel(\"y\")\n",
    "plt.xlabel(\"X\")"
   ]
  },
  {
   "cell_type": "markdown",
   "id": "4f209404",
   "metadata": {},
   "source": [
    "## Add Noise to Dataset"
   ]
  },
  {
   "cell_type": "markdown",
   "id": "36663c8f",
   "metadata": {},
   "source": [
    "## Split Dataset into Test & Train subsets"
   ]
  },
  {
   "cell_type": "code",
   "execution_count": null,
   "id": "65324fcd",
   "metadata": {},
   "outputs": [],
   "source": [
    "# split test & train datasets\n",
    "test_size = 0.2\n",
    "X_train, X_test, y_train, y_test = train_test_split(X, y, test_size=test_size, shuffle=True)\n",
    "\n",
    "# add some noise to the data\n",
    "y_train = y_train + np.random.normal(scale=0.0, size=len(X_train))\n",
    "y_test = y_test + np.random.normal(scale=0.01, size=len(X_test))\n",
    "\n",
    "plt.scatter(X_train, y_train, marker=\"o\")\n",
    "plt.scatter(X_test, y_test, marker=\".\")"
   ]
  },
  {
   "cell_type": "markdown",
   "id": "33d89c21",
   "metadata": {},
   "source": [
    "## Neural Network: Define, Compile, Fit, Evaluate"
   ]
  },
  {
   "cell_type": "code",
   "execution_count": null,
   "id": "a7e0c477",
   "metadata": {},
   "outputs": [],
   "source": [
    "def cos_model(loss, epochs, batch_size, model_layout):\n",
    "\n",
    "    start_time = time.time()\n",
    "\n",
    "    # define model\n",
    "    model = Sequential()\n",
    "    \n",
    "    # first hidden layer\n",
    "    model.add(Dense(model_layout[0], input_dim=1, activation='tanh'))\n",
    "\n",
    "    # remaining hidden layers\n",
    "    depth = len(model_layout)\n",
    "    for width in model_layout[1:]:\n",
    "        model.add(Dense(width, activation='tanh'))\n",
    "\n",
    "    # output layer\n",
    "    model.add(Dense(1, activation='linear'))\n",
    "    trainable_parameters = count_params(model.trainable_weights)\n",
    "\n",
    "    # compile the model\n",
    "    model.compile(loss=loss, optimizer='adam', metrics=['mse'])\n",
    "\n",
    "    # train (fit) the model to the dataset\n",
    "    history = model.fit(X_train, y_train, validation_data=(X_test, y_test),\n",
    "                        epochs=epochs, batch_size=batch_size, verbose=0)\n",
    "\n",
    "    # plot loss during training\n",
    "    plt.title('Loss')\n",
    "    plt.plot(history.history['loss'], label='train')\n",
    "    plt.plot(history.history['val_loss'], label='test')\n",
    "    plt.legend()\n",
    "    plt.show()\n",
    "\n",
    "    # make probability predictions with the model\n",
    "    X_predict = np.linspace(np.pi, 3*np.pi, 1000)\n",
    "    predictions = model.predict(X_predict)\n",
    "\n",
    "    # plot prediction vs truth\n",
    "    plt.plot(X, y, label='truth')\n",
    "    plt.plot(X_predict, predictions, label='predictions')\n",
    "    plt.legend()\n",
    "    plt.show()\n",
    "\n",
    "    # evaluate the keras model\n",
    "    _, train_mse = model.evaluate(X_train, y_train, verbose=0)\n",
    "    _, test_mse = model.evaluate(X_test, y_test, verbose=0)\n",
    "\n",
    "    end_time = time.time()\n",
    "    duration = end_time - start_time\n",
    "\n",
    "    print('Depth:      %s' % depth)\n",
    "    print('Parameters: %s' % trainable_parameters)\n",
    "    print('Train MSE:  %.4f' % train_mse)\n",
    "    print('Duration:   %.4f sec' % duration)\n",
    "\n",
    "    return np.array([depth, trainable_parameters, train_mse, duration])\n"
   ]
  },
  {
   "cell_type": "code",
   "execution_count": null,
   "id": "37cf01ad",
   "metadata": {},
   "outputs": [],
   "source": [
    "performance1 = cos_model('mean_squared_error', 200, 20, [12, 16, 12])"
   ]
  },
  {
   "cell_type": "code",
   "execution_count": null,
   "id": "d1bc5888",
   "metadata": {},
   "outputs": [],
   "source": [
    "print(performance)\n",
    "print(type(performance))\n",
    "print(results)\n",
    "print(type(results))\n"
   ]
  },
  {
   "cell_type": "code",
   "execution_count": null,
   "id": "fed21ea6",
   "metadata": {},
   "outputs": [],
   "source": [
    "performance2 = cos_model('mean_squared_error', 180, 10, [12, 16, 12])"
   ]
  },
  {
   "cell_type": "code",
   "execution_count": null,
   "id": "145245d7",
   "metadata": {},
   "outputs": [],
   "source": [
    "performance3 = cos_model('mean_squared_error', 100, 10, [12, 16, 12, 8])"
   ]
  },
  {
   "cell_type": "code",
   "execution_count": null,
   "id": "73777b74",
   "metadata": {},
   "outputs": [],
   "source": [
    "performance4 = cos_model('mean_squared_error', 120, 10, [12, 16, 12, 12])"
   ]
  },
  {
   "cell_type": "code",
   "execution_count": null,
   "id": "12f11d91",
   "metadata": {},
   "outputs": [],
   "source": [
    "performance5 = cos_model('mean_squared_error', 150, 10, [12, 16, 16, 8])"
   ]
  },
  {
   "cell_type": "code",
   "execution_count": null,
   "id": "bc0d4a25",
   "metadata": {},
   "outputs": [],
   "source": [
    "performance_summary = np.vstack(\n",
    "    (performance1, performance2, performance3, performance4, performance5))\n",
    "column_names = [\"depth\", \"num_parameters\", \"train_mse\", \"duration\"]\n",
    "df = pd.DataFrame(data=performance_summary, columns=column_names)\n",
    "print(df)\n",
    "\n",
    "plt.scatter('duration', 'train_mse', s='num_parameters', alpha=0.5, data=df)\n",
    "plt.ylabel(\"Train MSE\")\n",
    "plt.xlabel(\"Duration (sec)\")\n"
   ]
  },
  {
   "cell_type": "code",
   "execution_count": null,
   "id": "f8fc7ddb",
   "metadata": {},
   "outputs": [],
   "source": [
    "performance1 = performance.conc\n"
   ]
  },
  {
   "cell_type": "code",
   "execution_count": null,
   "id": "d4e969a0",
   "metadata": {},
   "outputs": [],
   "source": []
  }
 ],
 "metadata": {
  "interpreter": {
   "hash": "6a7148eb677216c3ec2fb093cbe939131d94ee597b7ca5cd8eb33adb2adba3c9"
  },
  "kernelspec": {
   "display_name": "Python 3.8.13 (conda)",
   "language": "python",
   "name": "python3"
  },
  "language_info": {
   "codemirror_mode": {
    "name": "ipython",
    "version": 3
   },
   "file_extension": ".py",
   "mimetype": "text/x-python",
   "name": "python",
   "nbconvert_exporter": "python",
   "pygments_lexer": "ipython3",
   "version": "3.8.13"
  }
 },
 "nbformat": 4,
 "nbformat_minor": 5
}
