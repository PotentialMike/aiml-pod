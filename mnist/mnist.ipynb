{
 "cells": [
  {
   "cell_type": "code",
   "execution_count": 1,
   "id": "3fc04850",
   "metadata": {},
   "outputs": [],
   "source": [
    "import random\n",
    "\n",
    "import numpy as np\n",
    "import pandas as pd\n",
    "import tensorflow as tf\n",
    "import matplotlib.pyplot as plt\n",
    "\n",
    "import sklearn\n",
    "from sklearn.model_selection import train_test_split\n",
    "\n",
    "import keras\n",
    "from keras.models import Sequential\n",
    "from keras.layers import Dense\n",
    "from keras.utils.np_utils import to_categorical\n",
    "\n"
   ]
  },
  {
   "cell_type": "markdown",
   "id": "c212e745",
   "metadata": {},
   "source": [
    "## Load dataset"
   ]
  },
  {
   "cell_type": "code",
   "execution_count": null,
   "id": "dd8706d8",
   "metadata": {
    "scrolled": true
   },
   "outputs": [],
   "source": [
    "(x_train, y_train),(x_test, y_test) = keras.datasets.mnist.load_data()\n",
    "\n",
    "img_count = x_train.shape[0]\n",
    "img_x_dim = x_train.shape[1]\n",
    "img_y_dim = x_train.shape[2]"
   ]
  },
  {
   "cell_type": "markdown",
   "id": "40835955",
   "metadata": {},
   "source": [
    "## Confirm handwritten image vs truth"
   ]
  },
  {
   "cell_type": "code",
   "execution_count": null,
   "id": "e41eae7b",
   "metadata": {},
   "outputs": [],
   "source": [
    "i = random.randrange(img_count)\n",
    "print(f\"The handwritten sample #{i} is a '{y_train[i]}'\")\n",
    "plt.imshow(x_train[i], cmap='gray_r', vmin = 0, vmax = 255);"
   ]
  },
  {
   "cell_type": "markdown",
   "id": "330c988f",
   "metadata": {},
   "source": [
    "## Pre-processing"
   ]
  },
  {
   "cell_type": "markdown",
   "id": "db8b0d0d",
   "metadata": {},
   "source": [
    "#### Reshape input data\n",
    "Input data is N X*Y sized images in the form of [N, X, Y]. So reshape into rows."
   ]
  },
  {
   "cell_type": "code",
   "execution_count": 4,
   "id": "ba522f15",
   "metadata": {},
   "outputs": [],
   "source": [
    "xx_train = np.reshape(x_train, (x_train.shape[0], img_x_dim*img_y_dim))\n",
    "xx_test = np.reshape(x_test, (x_test.shape[0], img_x_dim*img_y_dim))\n"
   ]
  },
  {
   "cell_type": "code",
   "execution_count": 5,
   "id": "10e829dd",
   "metadata": {},
   "outputs": [
    {
     "name": "stdout",
     "output_type": "stream",
     "text": [
      "row = 23\n",
      "original = [  0   0   0   0   0   0   0   0   0   0   0   0   0 255 141  86 198   0\n",
      "   0   0   0   0   0   0   0   0   0   0]\n",
      "reshaped = [  0   0   0   0   0   0   0   0   0   0   0   0   0 255 141  86 198   0\n",
      "   0   0   0   0   0   0   0   0   0   0]\n"
     ]
    }
   ],
   "source": [
    "# print random row in original and reshaped data to confirm expected reshape\n",
    "j = random.randrange(28)\n",
    "print(f\"Row: {j}\")\n",
    "print(f\" - Original = {x_train[i][j]}\")\n",
    "print(f\" - Reshaped = {xx_train[i][j*img_y_dim:(j+1)*img_y_dim]}\")"
   ]
  },
  {
   "cell_type": "markdown",
   "id": "ed267064",
   "metadata": {},
   "source": [
    "#### Encode truth data\n",
    "Truth data needs to be one-hot encoded"
   ]
  },
  {
   "cell_type": "code",
   "execution_count": 11,
   "id": "524a364c",
   "metadata": {},
   "outputs": [
    {
     "name": "stdout",
     "output_type": "stream",
     "text": [
      "[9 8 1 4 2]\n",
      "  -------------------\n",
      "#[0, 1, 2, 3, 4, 5, 6, 7, 8, 9]\n",
      "[[0. 0. 0. 0. 0. 1. 0. 0. 0. 0.]\n",
      " [1. 0. 0. 0. 0. 0. 0. 0. 0. 0.]\n",
      " [0. 0. 0. 0. 1. 0. 0. 0. 0. 0.]\n",
      " [0. 1. 0. 0. 0. 0. 0. 0. 0. 0.]\n",
      " [0. 0. 0. 0. 0. 0. 0. 0. 0. 1.]\n",
      " [0. 0. 1. 0. 0. 0. 0. 0. 0. 0.]\n",
      " [0. 1. 0. 0. 0. 0. 0. 0. 0. 0.]\n",
      " [0. 0. 0. 1. 0. 0. 0. 0. 0. 0.]\n",
      " [0. 1. 0. 0. 0. 0. 0. 0. 0. 0.]]\n"
     ]
    }
   ],
   "source": [
    "import numpy as np\n",
    "\n",
    "num_classes = 10\n",
    "yy_train = to_categorical(y_train, num_classes)\n",
    "yy_test = to_categorical(y_test, num_classes)\n",
    "\n",
    "\n",
    "print(y_train[i:i+5])\n",
    "print('  -------------------')\n",
    "print(f\"#{[0,1,2,3,4,5,6,7,8,9]}\")\n",
    "print(yy_train[0:9])"
   ]
  },
  {
   "cell_type": "markdown",
   "id": "1a26d995",
   "metadata": {},
   "source": [
    "## Define model"
   ]
  },
  {
   "cell_type": "code",
   "execution_count": 7,
   "id": "e943cb9e",
   "metadata": {},
   "outputs": [],
   "source": [
    "def mnist_model(x, y, epochs, batch_size, model_layout):\n",
    "    \n",
    "    # create train & val sets\n",
    "    x_train, x_val, y_train, y_val = train_test_split(x, y, test_size=0.1, shuffle=True)\n",
    "    \n",
    "    # define model\n",
    "    model = Sequential()\n",
    "    \n",
    "    # first hidden layer\n",
    "    model.add(Dense(model_layout[0], input_dim=img_x_dim*img_y_dim, activation='relu'))\n",
    "\n",
    "    # remaining hidden layers\n",
    "    depth = len(model_layout)\n",
    "    for width in model_layout[1:]:\n",
    "        model.add(Dense(width, activation='relu'))\n",
    "\n",
    "    # output layer\n",
    "    model.add(Dense(10, activation='softmax'))\n",
    "\n",
    "    # compile the model\n",
    "    model.compile(loss='categorical_crossentropy', optimizer='adam', metrics=['accuracy'])\n",
    "    print(model.summary())\n",
    "\n",
    "    # train (fit) the model to the dataset\n",
    "    history = model.fit(x_train, y_train,\n",
    "                        validation_data=(x_val, y_val),\n",
    "                        epochs=epochs,\n",
    "                        batch_size=batch_size,\n",
    "                        verbose=1)\n",
    "\n",
    "    # plot loss during training\n",
    "    plt.title('Loss')\n",
    "    plt.plot(history.history['accuracy'], label='accuracy')\n",
    "    plt.plot(history.history['val_accuracy'], label='val_accuracy')\n",
    "    plt.plot(history.history['loss'], label='loss')\n",
    "    plt.plot(history.history['val_loss'], label='val_loss')\n",
    "    plt.legend()\n",
    "    plt.show()\n",
    "\n",
    "    return model\n"
   ]
  },
  {
   "cell_type": "code",
   "execution_count": 96,
   "id": "f54a2ad7",
   "metadata": {},
   "outputs": [
    {
     "name": "stdout",
     "output_type": "stream",
     "text": [
      "Model: \"sequential_8\"\n",
      "_________________________________________________________________\n",
      " Layer (type)                Output Shape              Param #   \n",
      "=================================================================\n",
      " dense_33 (Dense)            (None, 784)               615440    \n",
      "                                                                 \n",
      " dense_34 (Dense)            (None, 196)               153860    \n",
      "                                                                 \n",
      " dense_35 (Dense)            (None, 49)                9653      \n",
      "                                                                 \n",
      " dense_36 (Dense)            (None, 10)                500       \n",
      "                                                                 \n",
      "=================================================================\n",
      "Total params: 779,453\n",
      "Trainable params: 779,453\n",
      "Non-trainable params: 0\n",
      "_________________________________________________________________\n",
      "None\n",
      "Epoch 1/15\n",
      " 12/422 [..............................] - ETA: 3s - loss: 20.7666 - accuracy: 0.3926 "
     ]
    },
    {
     "name": "stderr",
     "output_type": "stream",
     "text": [
      "2022-06-26 19:55:21.999260: I tensorflow/core/grappler/optimizers/custom_graph_optimizer_registry.cc:113] Plugin optimizer for device_type GPU is enabled.\n"
     ]
    },
    {
     "name": "stdout",
     "output_type": "stream",
     "text": [
      "420/422 [============================>.] - ETA: 0s - loss: 1.4645 - accuracy: 0.7219"
     ]
    },
    {
     "name": "stderr",
     "output_type": "stream",
     "text": [
      "2022-06-26 19:55:26.111483: I tensorflow/core/grappler/optimizers/custom_graph_optimizer_registry.cc:113] Plugin optimizer for device_type GPU is enabled.\n"
     ]
    },
    {
     "name": "stdout",
     "output_type": "stream",
     "text": [
      "422/422 [==============================] - 5s 10ms/step - loss: 1.4599 - accuracy: 0.7224 - val_loss: 0.5544 - val_accuracy: 0.8485\n",
      "Epoch 2/15\n",
      "422/422 [==============================] - 4s 10ms/step - loss: 0.3852 - accuracy: 0.9038 - val_loss: 0.3050 - val_accuracy: 0.9225\n",
      "Epoch 3/15\n",
      "422/422 [==============================] - 4s 10ms/step - loss: 0.2223 - accuracy: 0.9418 - val_loss: 0.2340 - val_accuracy: 0.9393\n",
      "Epoch 4/15\n",
      "422/422 [==============================] - 4s 10ms/step - loss: 0.1578 - accuracy: 0.9572 - val_loss: 0.1961 - val_accuracy: 0.9563\n",
      "Epoch 5/15\n",
      "422/422 [==============================] - 4s 10ms/step - loss: 0.1202 - accuracy: 0.9678 - val_loss: 0.2406 - val_accuracy: 0.9513\n",
      "Epoch 6/15\n",
      "422/422 [==============================] - 4s 10ms/step - loss: 0.0985 - accuracy: 0.9728 - val_loss: 0.1366 - val_accuracy: 0.9655\n",
      "Epoch 7/15\n",
      "422/422 [==============================] - 4s 10ms/step - loss: 0.0787 - accuracy: 0.9785 - val_loss: 0.1785 - val_accuracy: 0.9605\n",
      "Epoch 8/15\n",
      "422/422 [==============================] - 4s 10ms/step - loss: 0.0717 - accuracy: 0.9792 - val_loss: 0.1302 - val_accuracy: 0.9695\n",
      "Epoch 9/15\n",
      "422/422 [==============================] - 4s 10ms/step - loss: 0.0610 - accuracy: 0.9830 - val_loss: 0.1907 - val_accuracy: 0.9622\n",
      "Epoch 10/15\n",
      "422/422 [==============================] - 4s 10ms/step - loss: 0.0546 - accuracy: 0.9844 - val_loss: 0.1505 - val_accuracy: 0.9703\n",
      "Epoch 11/15\n",
      "422/422 [==============================] - 4s 10ms/step - loss: 0.0500 - accuracy: 0.9864 - val_loss: 0.1294 - val_accuracy: 0.9703\n",
      "Epoch 12/15\n",
      "422/422 [==============================] - 4s 10ms/step - loss: 0.0515 - accuracy: 0.9858 - val_loss: 0.1815 - val_accuracy: 0.9635\n",
      "Epoch 13/15\n",
      "422/422 [==============================] - 4s 10ms/step - loss: 0.0411 - accuracy: 0.9882 - val_loss: 0.1367 - val_accuracy: 0.9687\n",
      "Epoch 14/15\n",
      "422/422 [==============================] - 4s 10ms/step - loss: 0.0474 - accuracy: 0.9866 - val_loss: 0.1210 - val_accuracy: 0.9753\n",
      "Epoch 15/15\n",
      "422/422 [==============================] - 4s 10ms/step - loss: 0.0398 - accuracy: 0.9884 - val_loss: 0.1332 - val_accuracy: 0.9708\n"
     ]
    },
    {
     "data": {
      "image/png": "[encoded data removed]",
      "text/plain": [
       "<Figure size 432x288 with 1 Axes>"
      ]
     },
     "metadata": {
      "needs_background": "light"
     },
     "output_type": "display_data"
    }
   ],
   "source": [
    "my_model = mnist_model(xx_train, yy_train, 15, 128, [784, 784/4, 784/16])"
   ]
  },
  {
   "cell_type": "markdown",
   "id": "bb5e4e04",
   "metadata": {},
   "source": [
    "## Evaluate model"
   ]
  },
  {
   "cell_type": "code",
   "execution_count": 98,
   "id": "470a9bd3",
   "metadata": {},
   "outputs": [
    {
     "name": "stdout",
     "output_type": "stream",
     "text": [
      " 78/313 [======>.......................] - ETA: 0s"
     ]
    },
    {
     "name": "stderr",
     "output_type": "stream",
     "text": [
      "2022-06-26 19:56:27.999547: I tensorflow/core/grappler/optimizers/custom_graph_optimizer_registry.cc:113] Plugin optimizer for device_type GPU is enabled.\n"
     ]
    },
    {
     "name": "stdout",
     "output_type": "stream",
     "text": [
      "313/313 [==============================] - 1s 2ms/step\n",
      "Train MSE:  0.9891\n",
      "Test MSE:  0.9749\n",
      "Number Wrongly Predicted:  251\n",
      "Percent Wrong Predictions: 2.51%\n"
     ]
    }
   ],
   "source": [
    "# make probability predictions with the model\n",
    "predictions = my_model.predict(xx_test)\n",
    "pred_labels = np.argmax(predictions, axis=1)\n",
    "\n",
    "# evaluate the keras model\n",
    "_, train_mse = my_model.evaluate(xx_train, yy_train, verbose=0)\n",
    "_, test_mse = my_model.evaluate(xx_test, yy_test, verbose=0)\n",
    "\n",
    "print('Train MSE:  %.4f' % train_mse)\n",
    "print('Test MSE:  %.4f' % test_mse)\n",
    "\n",
    "# save off the wrong predictions\n",
    "wrong_predictions = x_test[pred_labels != y_test]\n",
    "wrong_labels = pred_labels[pred_labels != y_test]\n",
    "right_labels = y_test[pred_labels != y_test]\n",
    "\n",
    "# Characterize amount of wrongness\n",
    "percent_wrong = wrong_predictions.shape[0]/x_test.shape[0]*100\n",
    "print(f\"Number Wrongly Predicted:  {wrong_predictions.shape[0]}\")\n",
    "print(f\"Percent Wrong Predictions: {percent_wrong:.2f}%\")"
   ]
  },
  {
   "cell_type": "markdown",
   "id": "9f05998e",
   "metadata": {},
   "source": [
    "#### Review wrong predictions"
   ]
  },
  {
   "cell_type": "code",
   "execution_count": 99,
   "id": "766c7ce0",
   "metadata": {},
   "outputs": [
    {
     "name": "stdout",
     "output_type": "stream",
     "text": [
      "Handwritten sample #43:\n",
      " - Predicted: '3'\n",
      " - Actual:     '2'\n"
     ]
    },
    {
     "data": {
      "image/png": "[encoded data removed]",
      "text/plain": [
       "<Figure size 432x288 with 1 Axes>"
      ]
     },
     "metadata": {
      "needs_background": "light"
     },
     "output_type": "display_data"
    }
   ],
   "source": [
    "random_wrong = random.randrange(wrong_predictions.shape[0])\n",
    "print(f\"Handwritten sample #{random_wrong}:\")\n",
    "print(f\" - Predicted: '{wrong_labels[random_wrong]}'\")\n",
    "print(f\" - Actual:     '{right_labels[random_wrong]}'\")\n",
    "plt.imshow(wrong_predictions[random_wrong], cmap='gray_r', vmin = 0, vmax = 255);"
   ]
  },
  {
   "cell_type": "markdown",
   "id": "598cd14a",
   "metadata": {},
   "source": [
    "## Visualize Model Layers"
   ]
  },
  {
   "cell_type": "code",
   "execution_count": 100,
   "id": "e5e65f95",
   "metadata": {},
   "outputs": [
    {
     "name": "stdout",
     "output_type": "stream",
     "text": [
      "[<keras.layers.core.dense.Dense object at 0x2d289d6a0>, <keras.layers.core.dense.Dense object at 0x2986cf040>, <keras.layers.core.dense.Dense object at 0x2d28b5cd0>, <keras.layers.core.dense.Dense object at 0x2ccac8df0>]\n"
     ]
    }
   ],
   "source": [
    "print(my_model.layers)\n",
    "# cw1 = np.array(my_model.layers[1].get_weights())\n",
    "# print(cw1.shape) # 2 weight, 1 weight, 1 bias\n",
    "# print(cw1[0].shape) # 3 channels, 3 by 3 kernels, 32 filters\n",
    "# print(cw1[1].shape) # 32 biases\n",
    "\n",
    "# cw1 = np.array(my_model.layers[2].get_weights())\n",
    "# print(cw1.shape) # this is just a flatten operations, so no weights\n",
    "\n",
    "# cw1 = np.array(my_model.layers[3].get_weights())\n",
    "# print(cw1.shape) # 2 -> 1 weight, 1 bias\n",
    "# print(cw1[0].shape) # 28800 inputs, 5 outputs, 28800 by 5 weight matrix\n",
    "# print(cw1[1].shape) # 5 biases"
   ]
  },
  {
   "cell_type": "code",
   "execution_count": 127,
   "id": "6aee290c",
   "metadata": {},
   "outputs": [
    {
     "name": "stdout",
     "output_type": "stream",
     "text": [
      "(784, 784)\n",
      "(784,)\n",
      "(784, 196)\n",
      "(196,)\n",
      "(196, 49)\n",
      "(49,)\n",
      "(49, 10)\n",
      "(10,)\n"
     ]
    }
   ],
   "source": [
    "from keras import backend as K\n",
    "\n",
    "for w in my_model.trainable_weights:\n",
    "#     print(w)\n",
    "    print(K.eval(w).shape)"
   ]
  },
  {
   "cell_type": "code",
   "execution_count": 102,
   "id": "f40a86df",
   "metadata": {},
   "outputs": [
    {
     "ename": "IndexError",
     "evalue": "invalid index to scalar variable.",
     "output_type": "error",
     "traceback": [
      "\u001b[0;31m---------------------------------------------------------------------------\u001b[0m",
      "\u001b[0;31mIndexError\u001b[0m                                Traceback (most recent call last)",
      "Input \u001b[0;32mIn [102]\u001b[0m, in \u001b[0;36m<cell line: 1>\u001b[0;34m()\u001b[0m\n\u001b[0;32m----> 1\u001b[0m plt\u001b[38;5;241m.\u001b[39mimshow(\u001b[43mK\u001b[49m\u001b[38;5;241;43m.\u001b[39;49m\u001b[43meval\u001b[49m\u001b[43m(\u001b[49m\u001b[43mw\u001b[49m\u001b[43m)\u001b[49m\u001b[43m[\u001b[49m\u001b[38;5;241;43m0\u001b[39;49m\u001b[43m]\u001b[49m\u001b[43m[\u001b[49m\u001b[38;5;241;43m0\u001b[39;49m\u001b[43m]\u001b[49m, cmap\u001b[38;5;241m=\u001b[39m\u001b[38;5;124m'\u001b[39m\u001b[38;5;124mgray_r\u001b[39m\u001b[38;5;124m'\u001b[39m, vmin \u001b[38;5;241m=\u001b[39m \u001b[38;5;241m0\u001b[39m, vmax \u001b[38;5;241m=\u001b[39m \u001b[38;5;241m255\u001b[39m)\n",
      "\u001b[0;31mIndexError\u001b[0m: invalid index to scalar variable."
     ]
    }
   ],
   "source": [
    "plt.imshow(K.eval(w)[0][0], cmap='gray_r', vmin = 0, vmax = 255);"
   ]
  },
  {
   "cell_type": "code",
   "execution_count": 123,
   "id": "41aff912",
   "metadata": {},
   "outputs": [
    {
     "name": "stdout",
     "output_type": "stream",
     "text": [
      "<bound method Sequential.get_config of <keras.engine.sequential.Sequential object at 0x2c835aa60>>\n"
     ]
    }
   ],
   "source": [
    "print(my_model.get_config)"
   ]
  },
  {
   "cell_type": "code",
   "execution_count": 134,
   "id": "04d3b08e",
   "metadata": {},
   "outputs": [
    {
     "name": "stdout",
     "output_type": "stream",
     "text": [
      "(784,)\n"
     ]
    },
    {
     "data": {
      "image/png": "[encoded data removed]",
      "text/plain": [
       "<Figure size 432x288 with 1 Axes>"
      ]
     },
     "metadata": {
      "needs_background": "light"
     },
     "output_type": "display_data"
    }
   ],
   "source": [
    "# first layer\n",
    "a = K.eval(my_model.trainable_weights[0][2])\n",
    "print(a.shape)\n",
    "aa = np.reshape(a, (28, 28))\n",
    "plt.imshow(aa);"
   ]
  },
  {
   "cell_type": "code",
   "execution_count": 131,
   "id": "9cfa1f00",
   "metadata": {},
   "outputs": [
    {
     "name": "stdout",
     "output_type": "stream",
     "text": [
      "(196,)\n"
     ]
    },
    {
     "data": {
      "image/png": "[encoded data removed]",
      "text/plain": [
       "<Figure size 432x288 with 1 Axes>"
      ]
     },
     "metadata": {
      "needs_background": "light"
     },
     "output_type": "display_data"
    }
   ],
   "source": [
    "# second layer\n",
    "b = K.eval(my_model.trainable_weights[3])\n",
    "print(b.shape)\n",
    "bb = np.reshape(b, (14, 14))\n",
    "plt.imshow(bb);"
   ]
  },
  {
   "cell_type": "code",
   "execution_count": 132,
   "id": "97f14338",
   "metadata": {},
   "outputs": [
    {
     "name": "stdout",
     "output_type": "stream",
     "text": [
      "(49,)\n"
     ]
    },
    {
     "data": {
      "image/png": "[encoded data removed]",
      "text/plain": [
       "<Figure size 432x288 with 1 Axes>"
      ]
     },
     "metadata": {
      "needs_background": "light"
     },
     "output_type": "display_data"
    }
   ],
   "source": [
    "# third layer\n",
    "c = K.eval(my_model.trainable_weights[5])\n",
    "print(c.shape)\n",
    "cc = np.reshape(c, (7, 7))\n",
    "plt.imshow(cc);"
   ]
  },
  {
   "cell_type": "code",
   "execution_count": null,
   "id": "429050e0",
   "metadata": {},
   "outputs": [],
   "source": []
  }
 ],
 "metadata": {
  "kernelspec": {
   "display_name": "Python 3 (ipykernel)",
   "language": "python",
   "name": "python3"
  },
  "language_info": {
   "codemirror_mode": {
    "name": "ipython",
    "version": 3
   },
   "file_extension": ".py",
   "mimetype": "text/x-python",
   "name": "python",
   "nbconvert_exporter": "python",
   "pygments_lexer": "ipython3",
   "version": "3.8.13"
  }
 },
 "nbformat": 4,
 "nbformat_minor": 5
}
