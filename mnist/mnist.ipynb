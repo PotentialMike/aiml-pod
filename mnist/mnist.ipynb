{
 "cells": [
  {
   "cell_type": "code",
   "execution_count": 1,
   "id": "3fc04850",
   "metadata": {},
   "outputs": [],
   "source": [
    "import random\n",
    "\n",
    "import numpy as np\n",
    "import pandas as pd\n",
    "import tensorflow as tf\n",
    "import matplotlib.pyplot as plt\n",
    "\n",
    "import sklearn\n",
    "from sklearn.model_selection import train_test_split\n",
    "\n",
    "import keras\n",
    "from keras.models import Sequential\n",
    "from keras.layers import Dense\n",
    "from keras.utils.np_utils import to_categorical\n",
    "\n"
   ]
  },
  {
   "cell_type": "markdown",
   "id": "c212e745",
   "metadata": {},
   "source": [
    "## Load dataset"
   ]
  },
  {
   "cell_type": "code",
   "execution_count": 2,
   "id": "dd8706d8",
   "metadata": {
    "scrolled": true
   },
   "outputs": [],
   "source": [
    "(x_train, y_train),(x_test, y_test) = keras.datasets.mnist.load_data()\n",
    "\n",
    "img_count_train = x_train.shape[0]\n",
    "img_count_test = x_test.shape[0]\n",
    "img_x_dim = x_train.shape[1]\n",
    "img_y_dim = x_train.shape[2]"
   ]
  },
  {
   "cell_type": "markdown",
   "id": "40835955",
   "metadata": {},
   "source": [
    "## Confirm handwritten image vs truth"
   ]
  },
  {
   "cell_type": "code",
   "execution_count": 5,
   "id": "e41eae7b",
   "metadata": {},
   "outputs": [
    {
     "name": "stdout",
     "output_type": "stream",
     "text": [
      "The handwritten sample #9113 is a '6'\n"
     ]
    },
    {
     "data": {
      "image/png": "[encoded data removed]",
      "text/plain": [
       "<Figure size 432x288 with 1 Axes>"
      ]
     },
     "metadata": {
      "needs_background": "light"
     },
     "output_type": "display_data"
    }
   ],
   "source": [
    "i = random.randrange(img_count_train)\n",
    "print(f\"The handwritten sample #{i} is a '{y_train[i]}'\")\n",
    "plt.imshow(x_train[i], cmap='gray_r', vmin = 0, vmax = 255);"
   ]
  },
  {
   "cell_type": "markdown",
   "id": "330c988f",
   "metadata": {},
   "source": [
    "## Pre-processing"
   ]
  },
  {
   "cell_type": "markdown",
   "id": "db8b0d0d",
   "metadata": {},
   "source": [
    "#### Reshape input data\n",
    "Input data is N X*Y sized images in the form of [N, X, Y]. So reshape into rows."
   ]
  },
  {
   "cell_type": "code",
   "execution_count": 7,
   "id": "ba522f15",
   "metadata": {},
   "outputs": [],
   "source": [
    "xx_train = np.reshape(x_train, (x_train.shape[0], img_x_dim*img_y_dim))\n",
    "xx_test = np.reshape(x_test, (x_test.shape[0], img_x_dim*img_y_dim))"
   ]
  },
  {
   "cell_type": "code",
   "execution_count": 10,
   "id": "10e829dd",
   "metadata": {},
   "outputs": [
    {
     "name": "stdout",
     "output_type": "stream",
     "text": [
      "Row: 19\n",
      " - Original = [  0   0   0   0   0   0   0   0   0   0  16 175 253 253 247 230 248 253\n",
      " 253 163  30   0   0   0   0   0   0   0]\n",
      " - Reshaped = [  0   0   0   0   0   0   0   0   0   0  16 175 253 253 247 230 248 253\n",
      " 253 163  30   0   0   0   0   0   0   0]\n"
     ]
    }
   ],
   "source": [
    "# print random row in original and reshaped data to confirm expected reshape\n",
    "j = random.randrange(28)\n",
    "print(f\"Row: {j}\")\n",
    "print(f\" - Original = {x_train[i][j]}\")\n",
    "print(f\" - Reshaped = {xx_train[i][j*img_y_dim:(j+1)*img_y_dim]}\")"
   ]
  },
  {
   "cell_type": "markdown",
   "id": "ed267064",
   "metadata": {},
   "source": [
    "#### Encode truth data\n",
    "Truth data needs to be one-hot encoded"
   ]
  },
  {
   "cell_type": "code",
   "execution_count": 11,
   "id": "524a364c",
   "metadata": {},
   "outputs": [
    {
     "name": "stdout",
     "output_type": "stream",
     "text": [
      "[6 9 7 4 8]\n",
      "  -------------------\n",
      "#[0, 1, 2, 3, 4, 5, 6, 7, 8, 9]\n",
      "[[0. 0. 0. 0. 0. 1. 0. 0. 0. 0.]\n",
      " [1. 0. 0. 0. 0. 0. 0. 0. 0. 0.]\n",
      " [0. 0. 0. 0. 1. 0. 0. 0. 0. 0.]\n",
      " [0. 1. 0. 0. 0. 0. 0. 0. 0. 0.]\n",
      " [0. 0. 0. 0. 0. 0. 0. 0. 0. 1.]\n",
      " [0. 0. 1. 0. 0. 0. 0. 0. 0. 0.]\n",
      " [0. 1. 0. 0. 0. 0. 0. 0. 0. 0.]\n",
      " [0. 0. 0. 1. 0. 0. 0. 0. 0. 0.]\n",
      " [0. 1. 0. 0. 0. 0. 0. 0. 0. 0.]]\n"
     ]
    }
   ],
   "source": [
    "import numpy as np\n",
    "\n",
    "num_classes = 10\n",
    "yy_train = to_categorical(y_train, num_classes)\n",
    "yy_test = to_categorical(y_test, num_classes)\n",
    "\n",
    "\n",
    "print(y_train[i:i+5])\n",
    "print('  -------------------')\n",
    "print(f\"#{[0,1,2,3,4,5,6,7,8,9]}\")\n",
    "print(yy_train[0:9])"
   ]
  },
  {
   "cell_type": "markdown",
   "id": "1a26d995",
   "metadata": {},
   "source": [
    "## Define model"
   ]
  },
  {
   "cell_type": "code",
   "execution_count": null,
   "id": "e943cb9e",
   "metadata": {},
   "outputs": [],
   "source": [
    "def mnist_model(x, y, epochs, batch_size, model_layout):\n",
    "    \n",
    "    # create train & val sets\n",
    "    x_train, x_val, y_train, y_val = train_test_split(x, y, test_size=0.1, shuffle=True)\n",
    "    \n",
    "    # define model\n",
    "    model = Sequential()\n",
    "    \n",
    "    # first hidden layer\n",
    "    model.add(Dense(model_layout[0], input_dim=img_x_dim*img_y_dim, activation='relu'))\n",
    "\n",
    "    # remaining hidden layers\n",
    "    depth = len(model_layout)\n",
    "    for width in model_layout[1:]:\n",
    "        model.add(Dense(width, activation='relu'))\n",
    "\n",
    "    # output layer\n",
    "    model.add(Dense(10, activation='softmax'))\n",
    "\n",
    "    # compile the model\n",
    "    model.compile(loss='categorical_crossentropy', optimizer='adam', metrics=['accuracy'])\n",
    "    print(model.summary())\n",
    "\n",
    "    # train (fit) the model to the dataset\n",
    "    history = model.fit(x_train, y_train,\n",
    "                        validation_data=(x_val, y_val),\n",
    "                        epochs=epochs,\n",
    "                        batch_size=batch_size,\n",
    "                        verbose=1)\n",
    "\n",
    "    # plot loss during training\n",
    "    plt.title('Loss')\n",
    "    plt.plot(history.history['accuracy'], label='accuracy')\n",
    "    plt.plot(history.history['val_accuracy'], label='val_accuracy')\n",
    "    plt.plot(history.history['loss'], label='loss')\n",
    "    plt.plot(history.history['val_loss'], label='val_loss')\n",
    "    plt.legend()\n",
    "    plt.show()\n",
    "\n",
    "    return model\n"
   ]
  },
  {
   "cell_type": "code",
   "execution_count": null,
   "id": "f54a2ad7",
   "metadata": {},
   "outputs": [],
   "source": [
    "my_model = mnist_model(xx_train, yy_train, 15, 128, [784, 784/4, 784/16])"
   ]
  },
  {
   "cell_type": "markdown",
   "id": "bb5e4e04",
   "metadata": {},
   "source": [
    "## Evaluate model"
   ]
  },
  {
   "cell_type": "code",
   "execution_count": null,
   "id": "470a9bd3",
   "metadata": {},
   "outputs": [],
   "source": [
    "# make probability predictions with the model\n",
    "predictions = my_model.predict(xx_test)\n",
    "pred_labels = np.argmax(predictions, axis=1)\n",
    "\n",
    "# evaluate the keras model\n",
    "_, train_mse = my_model.evaluate(xx_train, yy_train, verbose=0)\n",
    "_, test_mse = my_model.evaluate(xx_test, yy_test, verbose=0)\n",
    "\n",
    "print('Train MSE:  %.4f' % train_mse)\n",
    "print('Test MSE:  %.4f' % test_mse)\n",
    "\n",
    "# save off the wrong predictions\n",
    "wrong_predictions = x_test[pred_labels != y_test]\n",
    "wrong_labels = pred_labels[pred_labels != y_test]\n",
    "right_labels = y_test[pred_labels != y_test]\n",
    "\n",
    "# Characterize amount of wrongness\n",
    "percent_wrong = wrong_predictions.shape[0]/x_test.shape[0]*100\n",
    "print(f\"Number Wrongly Predicted:  {wrong_predictions.shape[0]}\")\n",
    "print(f\"Percent Wrong Predictions: {percent_wrong:.2f}%\")"
   ]
  },
  {
   "cell_type": "markdown",
   "id": "9f05998e",
   "metadata": {},
   "source": [
    "#### Review wrong predictions"
   ]
  },
  {
   "cell_type": "code",
   "execution_count": null,
   "id": "766c7ce0",
   "metadata": {},
   "outputs": [],
   "source": [
    "random_wrong = random.randrange(wrong_predictions.shape[0])\n",
    "print(f\"Handwritten sample #{random_wrong}:\")\n",
    "print(f\" - Predicted: '{wrong_labels[random_wrong]}'\")\n",
    "print(f\" - Actual:     '{right_labels[random_wrong]}'\")\n",
    "plt.imshow(wrong_predictions[random_wrong], cmap='gray_r', vmin = 0, vmax = 255);"
   ]
  },
  {
   "cell_type": "markdown",
   "id": "598cd14a",
   "metadata": {},
   "source": [
    "## Visualize Model Layers"
   ]
  },
  {
   "cell_type": "code",
   "execution_count": null,
   "id": "e5e65f95",
   "metadata": {},
   "outputs": [],
   "source": [
    "print(my_model.layers)\n",
    "# cw1 = np.array(my_model.layers[1].get_weights())\n",
    "# print(cw1.shape) # 2 weight, 1 weight, 1 bias\n",
    "# print(cw1[0].shape) # 3 channels, 3 by 3 kernels, 32 filters\n",
    "# print(cw1[1].shape) # 32 biases\n",
    "\n",
    "# cw1 = np.array(my_model.layers[2].get_weights())\n",
    "# print(cw1.shape) # this is just a flatten operations, so no weights\n",
    "\n",
    "# cw1 = np.array(my_model.layers[3].get_weights())\n",
    "# print(cw1.shape) # 2 -> 1 weight, 1 bias\n",
    "# print(cw1[0].shape) # 28800 inputs, 5 outputs, 28800 by 5 weight matrix\n",
    "# print(cw1[1].shape) # 5 biases"
   ]
  },
  {
   "cell_type": "code",
   "execution_count": null,
   "id": "6aee290c",
   "metadata": {},
   "outputs": [],
   "source": [
    "from keras import backend as K\n",
    "\n",
    "for w in my_model.trainable_weights:\n",
    "#     print(w)\n",
    "    print(K.eval(w).shape)"
   ]
  },
  {
   "cell_type": "code",
   "execution_count": null,
   "id": "f40a86df",
   "metadata": {},
   "outputs": [],
   "source": [
    "plt.imshow(K.eval(w)[0][0], cmap='gray_r', vmin = 0, vmax = 255);"
   ]
  },
  {
   "cell_type": "code",
   "execution_count": null,
   "id": "41aff912",
   "metadata": {},
   "outputs": [],
   "source": [
    "print(my_model.get_config)"
   ]
  },
  {
   "cell_type": "code",
   "execution_count": null,
   "id": "04d3b08e",
   "metadata": {},
   "outputs": [],
   "source": [
    "# first layer\n",
    "a = K.eval(my_model.trainable_weights[0][2])\n",
    "print(a.shape)\n",
    "aa = np.reshape(a, (28, 28))\n",
    "plt.imshow(aa);"
   ]
  },
  {
   "cell_type": "code",
   "execution_count": null,
   "id": "9cfa1f00",
   "metadata": {},
   "outputs": [],
   "source": [
    "# second layer\n",
    "b = K.eval(my_model.trainable_weights[3])\n",
    "print(b.shape)\n",
    "bb = np.reshape(b, (14, 14))\n",
    "plt.imshow(bb);"
   ]
  },
  {
   "cell_type": "code",
   "execution_count": null,
   "id": "97f14338",
   "metadata": {},
   "outputs": [],
   "source": [
    "# third layer\n",
    "c = K.eval(my_model.trainable_weights[5])\n",
    "print(c.shape)\n",
    "cc = np.reshape(c, (7, 7))\n",
    "plt.imshow(cc);"
   ]
  },
  {
   "cell_type": "code",
   "execution_count": null,
   "id": "429050e0",
   "metadata": {},
   "outputs": [],
   "source": []
  }
 ],
 "metadata": {
  "interpreter": {
   "hash": "b0fa6594d8f4cbf19f97940f81e996739fb7646882a419484c72d19e05852a7e"
  },
  "kernelspec": {
   "display_name": "Python 3 (ipykernel)",
   "language": "python",
   "name": "python3"
  },
  "language_info": {
   "codemirror_mode": {
    "name": "ipython",
    "version": 3
   },
   "file_extension": ".py",
   "mimetype": "text/x-python",
   "name": "python",
   "nbconvert_exporter": "python",
   "pygments_lexer": "ipython3",
   "version": "3.8.13"
  }
 },
 "nbformat": 4,
 "nbformat_minor": 5
}
