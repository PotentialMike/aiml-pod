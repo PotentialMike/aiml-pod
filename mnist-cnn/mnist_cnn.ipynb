{
 "cells": [
  {
   "cell_type": "code",
   "execution_count": 58,
   "id": "3fc04850",
   "metadata": {},
   "outputs": [],
   "source": [
    "import random\n",
    "\n",
    "import numpy as np\n",
    "import pandas as pd\n",
    "import tensorflow as tf\n",
    "import matplotlib.pyplot as plt\n",
    "\n",
    "import sklearn\n",
    "from sklearn.model_selection import train_test_split\n",
    "\n",
    "import keras\n",
    "from keras.models import Sequential\n",
    "from keras.layers import Dense\n",
    "from keras.utils.np_utils import to_categorical"
   ]
  },
  {
   "cell_type": "code",
   "execution_count": 59,
   "id": "aa09161e",
   "metadata": {},
   "outputs": [],
   "source": [
    "NUM_CLASSES = 10\n",
    "LOSS = 'categorical_crossentropy'\n",
    "OPTIMIZER = 'adam'\n",
    "TEST_SPLIT = 0.1\n",
    "BATCH_SIZE = 128\n",
    "EPOCHS = 5"
   ]
  },
  {
   "cell_type": "markdown",
   "id": "c212e745",
   "metadata": {},
   "source": [
    "## Load dataset"
   ]
  },
  {
   "cell_type": "code",
   "execution_count": 61,
   "id": "dd8706d8",
   "metadata": {
    "scrolled": true
   },
   "outputs": [],
   "source": [
    "(x_train_raw, y_train_raw),(x_test_raw, y_test_raw) = keras.datasets.mnist.load_data()\n",
    "\n",
    "img_count_train = x_train_raw.shape[0]\n",
    "img_count_test = x_test_raw.shape[0]\n",
    "img_x_dim = x_train_raw.shape[1]\n",
    "img_y_dim = x_train_raw.shape[2]"
   ]
  },
  {
   "cell_type": "markdown",
   "id": "40835955",
   "metadata": {},
   "source": [
    "## Confirm handwritten image vs truth"
   ]
  },
  {
   "cell_type": "code",
   "execution_count": 62,
   "id": "e41eae7b",
   "metadata": {},
   "outputs": [
    {
     "name": "stdout",
     "output_type": "stream",
     "text": [
      "Handwritten sample #52791 is a '7'\n"
     ]
    },
    {
     "data": {
      "image/png": "[encoded data removed]",
      "text/plain": [
       "<Figure size 432x288 with 1 Axes>"
      ]
     },
     "metadata": {
      "needs_background": "light"
     },
     "output_type": "display_data"
    }
   ],
   "source": [
    "i = random.randrange(img_count_train)\n",
    "print(f\"Handwritten sample #{i} is a '{y_train_raw[i]}'\")\n",
    "plt.imshow(x_train_raw[i], cmap='gray_r', vmin = 0, vmax = 255);"
   ]
  },
  {
   "cell_type": "markdown",
   "id": "330c988f",
   "metadata": {},
   "source": [
    "## Pre-processing"
   ]
  },
  {
   "cell_type": "markdown",
   "id": "db8b0d0d",
   "metadata": {},
   "source": [
    "#### Reshape input data\n",
    "Input data is N X\\*Y sized images in the form of [N, X, Y]. So reshape into N X\\*Y shaped rows."
   ]
  },
  {
   "cell_type": "code",
   "execution_count": 63,
   "id": "ba522f15",
   "metadata": {},
   "outputs": [],
   "source": [
    "x_train = np.reshape(x_train_raw, (img_count_train, img_x_dim * img_y_dim))\n",
    "x_test = np.reshape(x_test_raw, (img_count_test, img_x_dim * img_y_dim))"
   ]
  },
  {
   "cell_type": "markdown",
   "id": "ed267064",
   "metadata": {},
   "source": [
    "#### Encode truth data\n",
    "Truth data needs to be one-hot encoded"
   ]
  },
  {
   "cell_type": "code",
   "execution_count": 64,
   "id": "524a364c",
   "metadata": {},
   "outputs": [
    {
     "name": "stdout",
     "output_type": "stream",
     "text": [
      "[7 5 0 3 9]\n",
      "  -------------------\n",
      "#[0, 1, 2, 3, 4, 5, 6, 7, 8, 9]\n",
      "[[0. 0. 0. 0. 0. 0. 0. 1. 0. 0.]\n",
      " [0. 0. 0. 0. 0. 1. 0. 0. 0. 0.]\n",
      " [1. 0. 0. 0. 0. 0. 0. 0. 0. 0.]\n",
      " [0. 0. 0. 1. 0. 0. 0. 0. 0. 0.]\n",
      " [0. 0. 0. 0. 0. 0. 0. 0. 0. 1.]]\n"
     ]
    }
   ],
   "source": [
    "y_train = to_categorical(y_train_raw, NUM_CLASSES)\n",
    "y_test = to_categorical(y_test_raw, NUM_CLASSES)\n",
    "\n",
    "print(y_train_raw[i:i+5])\n",
    "print('  -------------------')\n",
    "print(f\"#{[0,1,2,3,4,5,6,7,8,9]}\")\n",
    "print(y_train[i:i+5])"
   ]
  },
  {
   "cell_type": "markdown",
   "id": "1a26d995",
   "metadata": {},
   "source": [
    "## Define model"
   ]
  },
  {
   "cell_type": "code",
   "execution_count": 65,
   "id": "e943cb9e",
   "metadata": {},
   "outputs": [],
   "source": [
    "def mnist_model(X, y, epochs, batch_size, model_layout):\n",
    "    \n",
    "    # create train & val sets\n",
    "    X_train, X_val, y_train, y_val = train_test_split(X, y, test_size=TEST_SPLIT, shuffle=True)\n",
    "    \n",
    "    # define model\n",
    "    model = Sequential()\n",
    "    \n",
    "    # first dense layer\n",
    "    model.add(Dense(model_layout[0], input_dim=img_x_dim * img_y_dim, activation='relu'))\n",
    "\n",
    "    # remaining dense layers\n",
    "    depth = len(model_layout)\n",
    "    for width in model_layout[1:]:\n",
    "        model.add(Dense(width, activation='relu'))\n",
    "\n",
    "    # output layer\n",
    "    model.add(Dense(NUM_CLASSES, activation='softmax'))\n",
    "\n",
    "    # compile the model\n",
    "    model.compile(loss=LOSS, optimizer=OPTIMIZER, metrics=['accuracy'])\n",
    "\n",
    "\n",
    "    # train (fit) the model to the dataset\n",
    "    history = model.fit(X_train, y_train,\n",
    "                        validation_data=(X_val, y_val),\n",
    "                        epochs=epochs,\n",
    "                        batch_size=batch_size,\n",
    "                        verbose=1)\n",
    "\n",
    "    # plot loss during training\n",
    "    plt.title('Loss')\n",
    "    plt.plot(history.history['accuracy'], label='accuracy')\n",
    "    plt.plot(history.history['val_accuracy'], label='val_accuracy')\n",
    "    plt.plot(history.history['loss'], label='loss')\n",
    "    plt.plot(history.history['val_loss'], label='val_loss')\n",
    "    plt.legend()\n",
    "    plt.show()\n",
    "\n",
    "    return model\n"
   ]
  },
  {
   "cell_type": "code",
   "execution_count": 66,
   "id": "f54a2ad7",
   "metadata": {},
   "outputs": [
    {
     "name": "stdout",
     "output_type": "stream",
     "text": [
      "Epoch 1/5\n",
      "  7/422 [..............................] - ETA: 4s - loss: 32.1652 - accuracy: 0.2779   "
     ]
    },
    {
     "name": "stderr",
     "output_type": "stream",
     "text": [
      "2022-08-07 17:32:35.211332: I tensorflow/core/grappler/optimizers/custom_graph_optimizer_registry.cc:113] Plugin optimizer for device_type GPU is enabled.\n"
     ]
    },
    {
     "name": "stdout",
     "output_type": "stream",
     "text": [
      "422/422 [==============================] - ETA: 0s - loss: 1.6683 - accuracy: 0.6289"
     ]
    },
    {
     "name": "stderr",
     "output_type": "stream",
     "text": [
      "2022-08-07 17:32:39.139935: I tensorflow/core/grappler/optimizers/custom_graph_optimizer_registry.cc:113] Plugin optimizer for device_type GPU is enabled.\n"
     ]
    },
    {
     "name": "stdout",
     "output_type": "stream",
     "text": [
      "422/422 [==============================] - 4s 10ms/step - loss: 1.6683 - accuracy: 0.6289 - val_loss: 0.7739 - val_accuracy: 0.7958\n",
      "Epoch 2/5\n",
      "422/422 [==============================] - 4s 10ms/step - loss: 0.4521 - accuracy: 0.8900 - val_loss: 0.3954 - val_accuracy: 0.9162\n",
      "Epoch 3/5\n",
      "422/422 [==============================] - 4s 10ms/step - loss: 0.2464 - accuracy: 0.9398 - val_loss: 0.2644 - val_accuracy: 0.9350\n",
      "Epoch 4/5\n",
      "422/422 [==============================] - 4s 10ms/step - loss: 0.1690 - accuracy: 0.9575 - val_loss: 0.2183 - val_accuracy: 0.9523\n",
      "Epoch 5/5\n",
      "422/422 [==============================] - 4s 10ms/step - loss: 0.1237 - accuracy: 0.9677 - val_loss: 0.1866 - val_accuracy: 0.9572\n"
     ]
    },
    {
     "data": {
      "image/png": "[encoded data removed]",
      "text/plain": [
       "<Figure size 432x288 with 1 Axes>"
      ]
     },
     "metadata": {
      "needs_background": "light"
     },
     "output_type": "display_data"
    }
   ],
   "source": [
    "my_model = mnist_model(x_train, y_train, EPOCHS, BATCH_SIZE, [784, 784/4, 784/16])"
   ]
  },
  {
   "cell_type": "markdown",
   "id": "bb5e4e04",
   "metadata": {},
   "source": [
    "## Evaluate model"
   ]
  },
  {
   "cell_type": "code",
   "execution_count": 82,
   "id": "470a9bd3",
   "metadata": {},
   "outputs": [
    {
     "name": "stdout",
     "output_type": "stream",
     "text": [
      "313/313 [==============================] - 1s 2ms/step\n",
      "Train MSE:  0.9715\n",
      "Test MSE:  0.9600\n",
      "Number Wrongly Predicted:  400\n",
      "Percent Wrong Predictions: 4.00%\n"
     ]
    }
   ],
   "source": [
    "# make probability predictions with the model\n",
    "predictions = my_model.predict(x_test)\n",
    "pred_labels = np.argmax(predictions, axis=1)\n",
    "\n",
    "# evaluate the keras model\n",
    "_, train_mse = my_model.evaluate(x_train, y_train, verbose=0)\n",
    "_, test_mse = my_model.evaluate(x_test, y_test, verbose=0)\n",
    "\n",
    "print('Train MSE:  %.4f' % train_mse)\n",
    "print('Test MSE:  %.4f' % test_mse)\n",
    "\n",
    "# save off the wrong predictions\n",
    "wrong_predictions = x_test_raw[pred_labels != y_test_raw]\n",
    "wrong_labels = pred_labels[pred_labels != y_test_raw]\n",
    "right_labels = y_test_raw[pred_labels != y_test_raw]\n",
    "\n",
    "# Characterize amount of wrongness\n",
    "percent_wrong = wrong_predictions.shape[0]/x_test.shape[0]*100\n",
    "print(f\"Number Wrongly Predicted:  {wrong_predictions.shape[0]}\")\n",
    "print(f\"Percent Wrong Predictions: {percent_wrong:.2f}%\")"
   ]
  },
  {
   "cell_type": "markdown",
   "id": "9f05998e",
   "metadata": {},
   "source": [
    "#### Review wrong predictions"
   ]
  },
  {
   "cell_type": "code",
   "execution_count": 85,
   "id": "766c7ce0",
   "metadata": {},
   "outputs": [
    {
     "name": "stdout",
     "output_type": "stream",
     "text": [
      "Handwritten sample #13:\n",
      " - Predicted: '7'\n",
      " - Actual:     '3'\n"
     ]
    },
    {
     "data": {
      "image/png": "[encoded data removed]",
      "text/plain": [
       "<Figure size 432x288 with 1 Axes>"
      ]
     },
     "metadata": {
      "needs_background": "light"
     },
     "output_type": "display_data"
    }
   ],
   "source": [
    "random_wrong = random.randrange(wrong_predictions.shape[0])\n",
    "print(f\"Handwritten sample #{random_wrong}:\")\n",
    "print(f\" - Predicted: '{wrong_labels[random_wrong]}'\")\n",
    "print(f\" - Actual:     '{right_labels[random_wrong]}'\")\n",
    "plt.imshow(wrong_predictions[random_wrong], cmap='gray_r', vmin = 0, vmax = 255);"
   ]
  }
 ],
 "metadata": {
  "interpreter": {
   "hash": "b0fa6594d8f4cbf19f97940f81e996739fb7646882a419484c72d19e05852a7e"
  },
  "kernelspec": {
   "display_name": "Python 3 (ipykernel)",
   "language": "python",
   "name": "python3"
  },
  "language_info": {
   "codemirror_mode": {
    "name": "ipython",
    "version": 3
   },
   "file_extension": ".py",
   "mimetype": "text/x-python",
   "name": "python",
   "nbconvert_exporter": "python",
   "pygments_lexer": "ipython3",
   "version": "3.9.12"
  }
 },
 "nbformat": 4,
 "nbformat_minor": 5
}
