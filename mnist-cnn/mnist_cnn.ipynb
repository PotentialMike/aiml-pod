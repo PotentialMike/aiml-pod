{
 "cells": [
  {
   "cell_type": "code",
   "execution_count": 49,
   "id": "3fc04850",
   "metadata": {},
   "outputs": [],
   "source": [
    "import random\n",
    "\n",
    "import numpy as np\n",
    "import pandas as pd\n",
    "import tensorflow as tf\n",
    "import matplotlib.pyplot as plt\n",
    "\n",
    "import sklearn\n",
    "from sklearn.model_selection import train_test_split\n",
    "\n",
    "import keras\n",
    "from keras.models import Sequential\n",
    "from keras.layers import Dense\n",
    "from keras.utils.np_utils import to_categorical\n",
    "from keras.callbacks import EarlyStopping\n",
    "from keras.callbacks import TensorBoard"
   ]
  },
  {
   "cell_type": "markdown",
   "id": "84c29ddb",
   "metadata": {},
   "source": [
    "## Model Parameters"
   ]
  },
  {
   "cell_type": "code",
   "execution_count": 50,
   "id": "aa09161e",
   "metadata": {},
   "outputs": [],
   "source": [
    "NUM_CLASSES = 10\n",
    "LOSS = 'categorical_crossentropy'\n",
    "OPTIMIZER = 'adam'\n",
    "TEST_SPLIT = 0.1"
   ]
  },
  {
   "cell_type": "markdown",
   "id": "c212e745",
   "metadata": {},
   "source": [
    "## Load dataset"
   ]
  },
  {
   "cell_type": "code",
   "execution_count": 51,
   "id": "dd8706d8",
   "metadata": {
    "scrolled": true
   },
   "outputs": [],
   "source": [
    "(x_train_raw, y_train_raw),(x_test_raw, y_test_raw) = keras.datasets.mnist.load_data()\n",
    "\n",
    "img_count_train = x_train_raw.shape[0]\n",
    "img_count_test = x_test_raw.shape[0]\n",
    "img_x_dim = x_train_raw.shape[1]\n",
    "img_y_dim = x_train_raw.shape[2]"
   ]
  },
  {
   "cell_type": "markdown",
   "id": "40835955",
   "metadata": {},
   "source": [
    "### Confirm handwritten image vs truth"
   ]
  },
  {
   "cell_type": "code",
   "execution_count": 52,
   "id": "e41eae7b",
   "metadata": {},
   "outputs": [
    {
     "name": "stdout",
     "output_type": "stream",
     "text": [
      "Handwritten sample #14292 is a '6'\n"
     ]
    },
    {
     "data": {
      "image/png": "[encoded data removed]",
      "text/plain": [
       "<Figure size 432x288 with 1 Axes>"
      ]
     },
     "metadata": {
      "needs_background": "light"
     },
     "output_type": "display_data"
    }
   ],
   "source": [
    "i = random.randrange(img_count_train)\n",
    "print(f\"Handwritten sample #{i} is a '{y_train_raw[i]}'\")\n",
    "plt.imshow(x_train_raw[i], cmap='gray_r', vmin = 0, vmax = 255);"
   ]
  },
  {
   "cell_type": "markdown",
   "id": "330c988f",
   "metadata": {},
   "source": [
    "## Pre-process Data"
   ]
  },
  {
   "cell_type": "markdown",
   "id": "db8b0d0d",
   "metadata": {},
   "source": [
    "The raw input data is N X\\*Y-sized images in the form of [N, X, Y]. So need to reshape input data to N X\\*Y-shaped rows."
   ]
  },
  {
   "cell_type": "code",
   "execution_count": 53,
   "id": "ba522f15",
   "metadata": {},
   "outputs": [],
   "source": [
    "x_train = np.reshape(x_train_raw, (img_count_train, img_x_dim * img_y_dim))\n",
    "x_test = np.reshape(x_test_raw, (img_count_test, img_x_dim * img_y_dim))"
   ]
  },
  {
   "cell_type": "markdown",
   "id": "ed267064",
   "metadata": {},
   "source": [
    "One-hot encode the raw labels"
   ]
  },
  {
   "cell_type": "code",
   "execution_count": 54,
   "id": "524a364c",
   "metadata": {},
   "outputs": [],
   "source": [
    "y_train = to_categorical(y_train_raw, NUM_CLASSES)\n",
    "y_test = to_categorical(y_test_raw, NUM_CLASSES)\n",
    "\n",
    "# print(y_train_raw[i:i+5])\n",
    "# print('  -------------------')\n",
    "# print(f\"#{[0,1,2,3,4,5,6,7,8,9]}\")\n",
    "# print(y_train[i:i+5])"
   ]
  },
  {
   "cell_type": "markdown",
   "id": "1a26d995",
   "metadata": {},
   "source": [
    "## Build & Compile Model"
   ]
  },
  {
   "cell_type": "code",
   "execution_count": 64,
   "id": "e943cb9e",
   "metadata": {},
   "outputs": [],
   "source": [
    "def dense_nn(X, y, epochs, batch_size, model_layout):\n",
    "\n",
    "    depth = len(model_layout)\n",
    "    layout_str = '-'.join(str(int(width)) for width in model_layout)\n",
    "    model_name = f\"dense_{epochs}-epochs_{batch_size}-batches_{layout_str}-dense\"\n",
    "    print(f\" -- Building Model: {model_name}\")\n",
    "\n",
    "    # create train & val sets\n",
    "    X_train, X_val, y_train, y_val = train_test_split(X, y, test_size=TEST_SPLIT, shuffle=True)\n",
    "    \n",
    "    # define model\n",
    "    model = Sequential()\n",
    "    \n",
    "    # first dense layer\n",
    "    model.add(Dense(model_layout[0], input_dim=img_x_dim * img_y_dim, activation='relu'))\n",
    "\n",
    "    # remaining dense layers\n",
    "    for width in model_layout[1:]:\n",
    "        model.add(Dense(width, activation='relu'))\n",
    "\n",
    "    # output layer\n",
    "    model.add(Dense(NUM_CLASSES, activation='softmax'))\n",
    "\n",
    "    # compile the model\n",
    "    tensorboard = TensorBoard(log_dir=f\"logs/{model_name}\")\n",
    "    model.compile(loss=LOSS, optimizer=OPTIMIZER, metrics=['accuracy'])\n",
    "\n",
    "    # stop fitting early if validation loss gets worse\n",
    "    early_stop = EarlyStopping(monitor='val_loss', mode='min', verbose=1, patience=3)\n",
    "\n",
    "    # train (fit) the model to the dataset\n",
    "    history = model.fit(X_train, y_train,\n",
    "                        validation_data=(X_val, y_val),\n",
    "                        epochs=epochs,\n",
    "                        batch_size=batch_size,\n",
    "                        verbose=1,\n",
    "                        callbacks=[early_stop, tensorboard])\n",
    "\n",
    "    # # plot loss during training\n",
    "    # plt.title('Loss')\n",
    "    # plt.plot(history.history['accuracy'], label='accuracy')\n",
    "    # plt.plot(history.history['val_accuracy'], label='val_accuracy')\n",
    "    # plt.plot(history.history['loss'], label='loss')\n",
    "    # plt.plot(history.history['val_loss'], label='val_loss')\n",
    "    # plt.legend()\n",
    "    # plt.show()\n",
    "\n",
    "    return model\n"
   ]
  },
  {
   "cell_type": "code",
   "execution_count": 65,
   "id": "f54a2ad7",
   "metadata": {},
   "outputs": [
    {
     "name": "stdout",
     "output_type": "stream",
     "text": [
      " -- Building Model: dense_5-epochs_64-batches_784-196-49-dense\n",
      "(60000, 784)\n"
     ]
    },
    {
     "ename": "IndexError",
     "evalue": "tuple index out of range",
     "output_type": "error",
     "traceback": [
      "\u001b[0;31m---------------------------------------------------------------------------\u001b[0m",
      "\u001b[0;31mIndexError\u001b[0m                                Traceback (most recent call last)",
      "\u001b[1;32m/Users/mike/dev/aiml-pod/mnist-cnn/mnist_cnn.ipynb Cell 15\u001b[0m in \u001b[0;36m<cell line: 1>\u001b[0;34m()\u001b[0m\n\u001b[0;32m----> <a href='vscode-notebook-cell:/Users/mike/dev/aiml-pod/mnist-cnn/mnist_cnn.ipynb#X16sZmlsZQ%3D%3D?line=0'>1</a>\u001b[0m my_model \u001b[39m=\u001b[39m dense_nn(x_train, y_train, \u001b[39m5\u001b[39;49m, \u001b[39m64\u001b[39;49m, [\u001b[39m784\u001b[39;49m, \u001b[39m784\u001b[39;49m\u001b[39m/\u001b[39;49m\u001b[39m4\u001b[39;49m, \u001b[39m784\u001b[39;49m\u001b[39m/\u001b[39;49m\u001b[39m16\u001b[39;49m])\n\u001b[1;32m      <a href='vscode-notebook-cell:/Users/mike/dev/aiml-pod/mnist-cnn/mnist_cnn.ipynb#X16sZmlsZQ%3D%3D?line=1'>2</a>\u001b[0m my_model \u001b[39m=\u001b[39m dense_nn(x_train, y_train, \u001b[39m5\u001b[39m, \u001b[39m64\u001b[39m, [\u001b[39m784\u001b[39m\u001b[39m/\u001b[39m\u001b[39m2\u001b[39m, \u001b[39m784\u001b[39m\u001b[39m/\u001b[39m\u001b[39m8\u001b[39m, \u001b[39m784\u001b[39m\u001b[39m/\u001b[39m\u001b[39m16\u001b[39m])\n\u001b[1;32m      <a href='vscode-notebook-cell:/Users/mike/dev/aiml-pod/mnist-cnn/mnist_cnn.ipynb#X16sZmlsZQ%3D%3D?line=2'>3</a>\u001b[0m my_model \u001b[39m=\u001b[39m dense_nn(x_train, y_train, \u001b[39m5\u001b[39m, \u001b[39m128\u001b[39m, [\u001b[39m784\u001b[39m, \u001b[39m784\u001b[39m\u001b[39m/\u001b[39m\u001b[39m4\u001b[39m, \u001b[39m784\u001b[39m\u001b[39m/\u001b[39m\u001b[39m16\u001b[39m])\n",
      "\u001b[1;32m/Users/mike/dev/aiml-pod/mnist-cnn/mnist_cnn.ipynb Cell 15\u001b[0m in \u001b[0;36mdense_nn\u001b[0;34m(X, y, epochs, batch_size, model_layout)\u001b[0m\n\u001b[1;32m      <a href='vscode-notebook-cell:/Users/mike/dev/aiml-pod/mnist-cnn/mnist_cnn.ipynb#X16sZmlsZQ%3D%3D?line=6'>7</a>\u001b[0m \u001b[39mprint\u001b[39m(X\u001b[39m.\u001b[39mshape)\n\u001b[1;32m      <a href='vscode-notebook-cell:/Users/mike/dev/aiml-pod/mnist-cnn/mnist_cnn.ipynb#X16sZmlsZQ%3D%3D?line=8'>9</a>\u001b[0m img_x_dim \u001b[39m=\u001b[39m X\u001b[39m.\u001b[39mshape[\u001b[39m1\u001b[39m]\n\u001b[0;32m---> <a href='vscode-notebook-cell:/Users/mike/dev/aiml-pod/mnist-cnn/mnist_cnn.ipynb#X16sZmlsZQ%3D%3D?line=9'>10</a>\u001b[0m img_y_dim \u001b[39m=\u001b[39m X\u001b[39m.\u001b[39;49mshape[\u001b[39m2\u001b[39;49m]\n\u001b[1;32m     <a href='vscode-notebook-cell:/Users/mike/dev/aiml-pod/mnist-cnn/mnist_cnn.ipynb#X16sZmlsZQ%3D%3D?line=10'>11</a>\u001b[0m depth \u001b[39m=\u001b[39m \u001b[39mlen\u001b[39m(model_layout)\n\u001b[1;32m     <a href='vscode-notebook-cell:/Users/mike/dev/aiml-pod/mnist-cnn/mnist_cnn.ipynb#X16sZmlsZQ%3D%3D?line=12'>13</a>\u001b[0m \u001b[39m# create train & val sets\u001b[39;00m\n",
      "\u001b[0;31mIndexError\u001b[0m: tuple index out of range"
     ]
    }
   ],
   "source": [
    "my_model = dense_nn(x_train, y_train, 5, 64, [784, 784/4, 784/16])\n",
    "my_model = dense_nn(x_train, y_train, 5, 64, [784/2, 784/8, 784/16])\n",
    "my_model = dense_nn(x_train, y_train, 5, 128, [784, 784/4, 784/16])\n",
    "my_model = dense_nn(x_train, y_train, 5, 128, [784/2, 784/8, 784/16])"
   ]
  },
  {
   "cell_type": "code",
   "execution_count": null,
   "id": "e7ed851a",
   "metadata": {},
   "outputs": [],
   "source": [
    "def conv2d_nn(X, y, epochs, batch_size, model_layout):\n",
    "\n",
    "    layout_str = '-'.join(str(int(width)) for width in model_layout)\n",
    "    model_name = f\"dense_{epochs}-epochs_{batch_size}-batches_{layout_str}-dense\"\n",
    "    print(f\" -- Building Model: {model_name}\")\n",
    "\n",
    "    img_x_dim = X.shape[1]\n",
    "    img_y_dim = X.shape[2]\n",
    "    depth = len(model_layout)\n",
    "    \n",
    "    # create train & val sets\n",
    "    X_train, X_val, y_train, y_val = train_test_split(X, y, test_size=TEST_SPLIT, shuffle=True)\n",
    "    \n",
    "    # define model\n",
    "    model = Sequential()\n",
    "    \n",
    "    # first dense layer\n",
    "    model.add(Dense(model_layout[0], input_dim=img_x_dim * img_y_dim, activation='relu'))\n",
    "\n",
    "    # remaining dense layers\n",
    "    for width in model_layout[1:]:\n",
    "        model.add(Dense(width, activation='relu'))\n",
    "\n",
    "    # output layer\n",
    "    model.add(Dense(NUM_CLASSES, activation='softmax'))\n",
    "\n",
    "    # compile the model\n",
    "    tensorboard = TensorBoard(log_dir=f\"logs/{model_name}\")\n",
    "    model.compile(loss=LOSS, optimizer=OPTIMIZER, metrics=['accuracy'])\n",
    "\n",
    "    # stop fitting early if validation loss gets worse\n",
    "    early_stop = EarlyStopping(monitor='val_loss', mode='min', verbose=1, patience=3)\n",
    "\n",
    "    # train (fit) the model to the dataset\n",
    "    history = model.fit(X_train, y_train,\n",
    "                        validation_data=(X_val, y_val),\n",
    "                        epochs=epochs,\n",
    "                        batch_size=batch_size,\n",
    "                        verbose=1,\n",
    "                        callbacks=[early_stop, tensorboard])\n",
    "\n",
    "    # plot loss during training\n",
    "    plt.title('Loss')\n",
    "    plt.plot(history.history['accuracy'], label='accuracy')\n",
    "    plt.plot(history.history['val_accuracy'], label='val_accuracy')\n",
    "    plt.plot(history.history['loss'], label='loss')\n",
    "    plt.plot(history.history['val_loss'], label='val_loss')\n",
    "    plt.legend()\n",
    "    plt.show()\n",
    "\n",
    "    return model"
   ]
  },
  {
   "cell_type": "markdown",
   "id": "bb5e4e04",
   "metadata": {},
   "source": [
    "## Evaluate model"
   ]
  },
  {
   "cell_type": "code",
   "execution_count": 58,
   "id": "470a9bd3",
   "metadata": {},
   "outputs": [
    {
     "name": "stdout",
     "output_type": "stream",
     "text": [
      " 56/313 [====>.........................] - ETA: 0s"
     ]
    },
    {
     "name": "stderr",
     "output_type": "stream",
     "text": [
      "2022-08-07 19:44:08.324206: I tensorflow/core/grappler/optimizers/custom_graph_optimizer_registry.cc:113] Plugin optimizer for device_type GPU is enabled.\n"
     ]
    },
    {
     "name": "stdout",
     "output_type": "stream",
     "text": [
      "313/313 [==============================] - 1s 2ms/step\n",
      "Train MSE:  0.9747\n",
      "Test MSE:  0.9630\n"
     ]
    }
   ],
   "source": [
    "predictions = my_model.predict(x_test)\n",
    "pred_labels = np.argmax(predictions, axis=1)\n",
    "\n",
    "# evaluate the keras model\n",
    "_, train_mse = my_model.evaluate(x_train, y_train, verbose=0)\n",
    "_, test_mse = my_model.evaluate(x_test, y_test, verbose=0)\n",
    "\n",
    "print('Train MSE:  %.4f' % train_mse)\n",
    "print('Test MSE:  %.4f' % test_mse)"
   ]
  },
  {
   "cell_type": "markdown",
   "id": "9f05998e",
   "metadata": {},
   "source": [
    "Let's take a look at the wrong predictions. Are they obviously wrong or understandably wrong? (i.e., sloppy handwriting)"
   ]
  },
  {
   "cell_type": "code",
   "execution_count": null,
   "id": "766c7ce0",
   "metadata": {},
   "outputs": [],
   "source": [
    "# save off the wrong predictions\n",
    "wrong_predictions = x_test_raw[pred_labels != y_test_raw]\n",
    "wrong_labels = pred_labels[pred_labels != y_test_raw]\n",
    "right_labels = y_test_raw[pred_labels != y_test_raw]\n",
    "\n",
    "# Characterize amount of wrongness\n",
    "percent_wrong = wrong_predictions.shape[0]/x_test.shape[0]*100\n",
    "print(f\"Number Wrongly Predicted:  {wrong_predictions.shape[0]}\")\n",
    "print(f\"Percent Wrong Predictions: {percent_wrong:.2f}%\")\n",
    "\n",
    "random_wrong = random.randrange(wrong_predictions.shape[0])\n",
    "print(f\"Handwritten sample #{random_wrong}:\")\n",
    "print(f\" - Predicted: '{wrong_labels[random_wrong]}'\")\n",
    "print(f\" - Actual:     '{right_labels[random_wrong]}'\")\n",
    "plt.imshow(wrong_predictions[random_wrong], cmap='gray_r', vmin = 0, vmax = 255);"
   ]
  },
  {
   "cell_type": "code",
   "execution_count": null,
   "id": "b93f7780",
   "metadata": {},
   "outputs": [],
   "source": []
  }
 ],
 "metadata": {
  "interpreter": {
   "hash": "b0fa6594d8f4cbf19f97940f81e996739fb7646882a419484c72d19e05852a7e"
  },
  "kernelspec": {
   "display_name": "Python 3 (ipykernel)",
   "language": "python",
   "name": "python3"
  },
  "language_info": {
   "codemirror_mode": {
    "name": "ipython",
    "version": 3
   },
   "file_extension": ".py",
   "mimetype": "text/x-python",
   "name": "python",
   "nbconvert_exporter": "python",
   "pygments_lexer": "ipython3",
   "version": "3.9.12"
  }
 },
 "nbformat": 4,
 "nbformat_minor": 5
}
